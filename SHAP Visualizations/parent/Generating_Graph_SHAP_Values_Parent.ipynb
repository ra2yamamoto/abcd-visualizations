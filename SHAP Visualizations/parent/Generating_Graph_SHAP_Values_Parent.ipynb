{
  "nbformat": 4,
  "nbformat_minor": 0,
  "metadata": {
    "colab": {
      "provenance": []
    },
    "kernelspec": {
      "name": "python3",
      "display_name": "Python 3"
    },
    "language_info": {
      "name": "python"
    }
  },
  "cells": [
    {
      "cell_type": "code",
      "source": [
        "import pandas as pd"
      ],
      "metadata": {
        "id": "2clte4vCY49F"
      },
      "execution_count": null,
      "outputs": []
    },
    {
      "cell_type": "code",
      "source": [
        "# This file creates hierarchy, vertex, and connection dataframes to be imported\n",
        "# into an R script using ggraph and igraph, in the format that graph_from_data_frame() expects"
      ],
      "metadata": {
        "id": "XayglfCzcw6N"
      },
      "execution_count": null,
      "outputs": []
    },
    {
      "cell_type": "code",
      "source": [
        "# Calculated SHAP values for parents\n",
        "\n",
        "edge_values = [\n",
        "  (\"parent_worries_a_lot_p\", \"parent_aggressive_D_p\", 5.4972e-03),\n",
        "  (\"parent_attention_D_p\", \"parent_aggressive_D_p\", 5.4311e-03),\n",
        "  (\"parent_worries_a_lot_p\", \"parent_avoidant_person_D_p\", 4.8946e-03),\n",
        "  (\"parent_worries_a_lot_p\", \"parent_confused_p\", 3.6692e-03),\n",
        "  (\"parent_obsessive_thoughts_p\", \"parent_aggressive_D_p\", 3.3266e-03),\n",
        "  (\"parent_aggressive_D_p\", \"parent_somatic_problems_D_p\", 3.2423e-03),\n",
        "  (\"parent_confused_p\", \"parent_somatic_problems_D_p\", 3.2090e-03),\n",
        "  (\"parent_confused_p\", \"parent_avoidant_person_D_p\", 3.0738e-03),\n",
        "  (\"parent_worries_a_lot_p\", \"parent_attention_D_p\", 3.0641e-03),\n",
        "  (\"parent_obsessive_thoughts_p\", \"parent_attention_D_p\", 3.0040e-03),\n",
        "  (\"parent_worries_a_lot_p\", \"parent_stubborn_irritable_p\", 2.7371e-03),\n",
        "  (\"parent_worries_a_lot_p\", \"parent_somatic_problems_D_p\", 2.7319e-03),\n",
        "  (\"parent_aggressive_D_p\", \"parent_avoidant_person_D_p\", 2.7225e-03),\n",
        "  (\"parent_attention_D_p\", \"parent_somatic_problems_D_p\", 2.3812e-03),\n",
        "  (\"parent_somatic_problems_D_p\", \"parent_avoidant_person_D_p\", 2.2592e-03),\n",
        "  (\"parent_stubborn_irritable_p\", \"parent_somatic_problems_D_p\", 2.1331e-03),\n",
        "  (\"delta_parent_feels_unloved_p\", \"parent_aggressive_D_p\", 2.1303e-03),\n",
        "  (\"sad_p\", \"parent_somatic_problems_D_p\", 2.1287e-03),\n",
        "  (\"parent_uses_opportunities_p\", \"parent_avoidant_person_D_p\", 2.0250e-03),\n",
        "  (\"sad_p\", \"parent_confused_p\", 2.0007e-03),\n",
        "  (\"delta_parent_stubborn_irritable_p\", \"parent_aggressive_D_p\", 1.8830e-03),\n",
        "  (\"sad_p\", \"parent_aggressive_D_p\", 1.8818e-03),\n",
        "  (\"parent_confused_p\", \"parent_aggressive_D_p\", 1.8471e-03),\n",
        "  (\"sad_p\", \"delta_parent_feels_unloved_p\", 1.8264e-03),\n",
        "  (\"sad_p\", \"parent_avoidant_person_D_p\", 1.8094e-03),\n",
        "  (\"parent_obsessive_thoughts_p\", \"parent_avoidant_person_D_p\", 1.7878e-03),\n",
        "  (\"parent_restless_p\", \"parent_avoidant_person_D_p\", 1.7240e-03),\n",
        "  (\"perfectionist_p\", \"sugary_beverage_freq\", 1.7035e-03),\n",
        "  (\"parent_attention_D_p\", \"parent_avoidant_person_D_p\", 1.6884e-03),\n",
        "  (\"parent_obsessive_thoughts_p\", \"parent_restless_p\", 1.6586e-03),\n",
        "  (\"sad_p\", \"parent_obsessive_thoughts_p\", 1.6395e-03),\n",
        "  (\"parent_worries_a_lot_p\", \"parent_uses_opportunities_p\", 1.6051e-03),\n",
        "  (\"parent_somatic_problems_D_p\", \"pc_gene_aces2\", 1.5883e-03),\n",
        "  (\"parent_aggressive_D_p\", \"b_lifeevents_ss_p\", 1.5817e-03),\n",
        "  (\"parent_confused_p\", \"parent_stubborn_irritable_p\", 1.5569e-03),\n",
        "  (\"delta_parent_feels_unloved_p\", \"parent_avoidant_person_D_p\", 1.5546e-03),\n",
        "  (\"parent_worries_a_lot_p\", \"parent_bad_opposite_sex_relationship_p\", 1.5494e-03),\n",
        "  (\"delta_parent_feels_unloved_p\", \"parent_attention_D_p\", 1.5381e-03),\n",
        "  (\"puberty_k\", \"parent_bad_family_relationship_p\", 1.4835e-03),\n",
        "  (\"parent_relationship_concerns_p\", \"parent_aggressive_D_p\", 1.4822e-03),\n",
        "  (\"parent_easily_bored_p\", \"parent_hyperactive_D_p\", 1.4777e-03),\n",
        "  (\"parent_self_conscious_p\", \"parent_intrusive_thoughts_D_p\", 1.4695e-03),\n",
        "  (\"parent_numbness_p\", \"parent_avoidant_person_D_p\", 1.4643e-03),\n",
        "  (\"parent_worries_a_lot_p\", \"parent_planning_trouble_p\", 1.4174e-03),\n",
        "  (\"delta_parent_sleep_trouble_p\", \"pc_gene_aces7\", 1.3725e-03),\n",
        "  (\"sad_p\", \"parent_stubborn_irritable_p\", 1.3528e-03),\n",
        "  (\"parent_doesnt_finish_tasks_p\", \"parent_disorganized_p\", 1.3440e-03),\n",
        "  (\"parent_confused_p\", \"delta_parent_feels_unloved_p\", 1.3338e-03),\n",
        "  (\"sad_p\", \"parent_worries_a_lot_p\", 1.3119e-03),\n",
        "  (\"sad_p\", \"parent_attention_D_p\", 1.3053e-03),\n",
        "]"
      ],
      "metadata": {
        "id": "JDC3tC2pbDkM"
      },
      "execution_count": null,
      "outputs": []
    },
    {
      "cell_type": "code",
      "source": [
        "edge_values = edge_values[:31] # we only use the first 31"
      ],
      "metadata": {
        "id": "s-Xftn8_cHde"
      },
      "execution_count": null,
      "outputs": []
    },
    {
      "cell_type": "code",
      "source": [
        "# create list of variables\n",
        "\n",
        "shap_var_list = list(set(sum([[a, b] for a, b, _ in edge_values], [])))"
      ],
      "metadata": {
        "id": "TAw6KnC8V-Oj"
      },
      "execution_count": null,
      "outputs": []
    },
    {
      "cell_type": "code",
      "source": [
        "#@title Vars\n",
        "\n",
        "variable_groups = {\n",
        "    'Family Dynamics & Parenting': ['p_comm_cohesion_ss', 'p_comm_ctrl_ss', 'p_comm_collective_efficacy_ss',\n",
        "            'fam_fight_often_k', 'fam_no_open_anger_k', 'fam_throw_things_k', 'fam_no_lose_temps_k',\n",
        "            'fam_criticize_often_k', 'fam_hit_each_other_k', 'fam_keep_peace_k', 'fam_try_one_up_k',\n",
        "            'fam_no_raise_voices_k', 'family_not_talk_aboutfeelings_p', 'family_peaceful_p',\n",
        "            'family_open_discussing_anything_p', 'family_lose_temper_rare_p', 'family_believe_not_raise_voice_p',\n",
        "            'frequent_family_conflict_p', 'family_conflict_ss_p', 'family_expression_ss_p', 'family_intellectual_ss_p',\n",
        "            'family_activities_ss_p', 'family_organisation_ss_p', 'parents_argue_more_p', 'family_emotionprob_p',\n",
        "            'parents_divorced_p', 'death_in_family_p', 'family_move_p', 'family_conflict_ss_k',\n",
        "            'parent_monitoring_ss_k', 'marital_status', 'parent_age', 'sex_P', 'num_brothers_p', 'num_sisters_p',\n",
        "            'religious_service_frequency', 'relig_importance'],\n",
        "\n",
        "        'SES & Mobility': ['parent_education', 'parent_income', 'struggle_food_expenses', 'couldnt_afford_phone',\n",
        "            'couldnt_afford_rent_mortgage', 'evicted', 'gas_electric_oil_turned_off', 'parent_work_absences_p', 'parent_financial_trouble_p', 'parent_fails_to_pay_debts_p'\n",
        "        ],\n",
        "\n",
        "        'Residential Characteristics': ['neighborhood_safety_ss_p', 'neighborhood_safe_y', 'resid_density', 'resid_walkability', 'resid_prox_roads', 'resid_crime_tot', 'resid_crime_violent',\n",
        "            'resid_crime_drug', 'resid_crime_dui', 'resid_lead_risk_poverty', 'resid_lead_risk_houses_perc',\n",
        "            'resid_lead_risk', 'resid_no2_avg', 'resid_pm25_avg', 'resid_sexism', 'resid_sex_orient_bias',\n",
        "            'resid_immigrant_bias', 'resid_racism', 'L_site_id'],\n",
        "\n",
        "        'Child School Dynamics': ['disobeys_at_school_k', 'getalong_teachers_k', 'feelsafe_at_school_k', 'feels_smart_k',\n",
        "            'enjoys_school_k', 'grades_important_k', 'school_environment_ss_k', 'school_involvement_ss_k',\n",
        "            'school_disengagement_ss_k', 'bad_grades', 'repeated_grade', 'grades_dropped', 'school_detension_suspension',\n",
        "            'child_newschool_p', 'finds_schoolboring_k'],\n",
        "\n",
        "        'Child Mood': ['enjoys_little_p', 'sad_p', 'suicidal_p', 'guilty_p', 'withdrawn_p'],\n",
        "\n",
        "        'Other Psychopathology ': ['obsessions_present_B_p', 'poor_eye_contact_B_p','nightmares_B_p',\n",
        "            'parent_elevated_mood_B_p', 'parent_excessive_worry_B_p', 'parent_lying_B_p', 'parent_social_anxiety_disorder_B_p',\n",
        "            'parent_sleep_problem_B_p', 'parent_bulimia_B_p',\n",
        "            'parent_anxdisord_D_p', 'parent_antisocial_D_p', 'parent_hyperactive_D_p',\n",
        "            'parent_intrusive_thoughts_D_p', 'parent_avoidant_person_D_p',\n",
        "            'd_grandfather_dep', 'd_grandmother_dep', 'm_grandfather_dep', 'm_grandmother_dep', 'father_mania', 'mother_mania',\n",
        "            'father_trouble', 'parent_hospitalized_emo', 'parent_therapy_emo'],\n",
        "\n",
        "        'Somatic Problems': [\n",
        "            'parent_somatic_problems_D_p'\n",
        "        ],\n",
        "\n",
        "        'Personality': [\n",
        "            'parent_bragging_p', 'parent_honest_p', 'parent_secretive_p', 'parent_stubborn_irritable_p',\n",
        "            'parent_clumsy_p', 'parent_strange_thoughts_p', 'parent_self_conscious_p', 'parent_uses_opportunities_p',\n",
        "            'parent_louder_than_others_p', 'parent_yells_a_lot_p', 'parent_shy_or_timid_p', 'parent_restless_p',\n",
        "            'parent_easily_bored_p', 'parent_hyperactive_p', 'parent_talks_too_much_p', 'parent_avoids_talking_p',\n",
        "            'parent_prefers_to_be_alone_p', 'parent_no_guilt_p', 'parent_sense_of_fairness_p',\n",
        "            'parent_high_sleep_duration_p', 'parent_opposite_sex_wish_p'\n",
        "        ],\n",
        "\n",
        "        'Anxiety': [\n",
        "            'parent_fearful_or_anxious_p', 'parent_specific_fears_p', 'parent_fear_of_bad_thoughts_p',\n",
        "            'parent_worries_about_future_p', 'parent_worries_about_family_p', 'parent_worries_a_lot_p',\n",
        "            'parent_relationship_concerns_p'\n",
        "        ],\n",
        "\n",
        "         'Impulsivity and Behavior Regulation': [\n",
        "            'parent_impulsive_p', 'parent_risky_decisions_p', 'parent_drives_too_fast_p', 'parent_tardy_often_p',\n",
        "            'parent_money_management_trouble_p', 'parent_priority_trouble_p', 'parent_behavior_changeable_p',\n",
        "            'parent_hot_temper_p', 'parent_attention_seeking_p', 'parent_destroys_own_things_p',\n",
        "            'parent_destroys_others_things_p', 'parent_doesnt_finish_tasks_p', 'parent_strange_behavior_p',\n",
        "            'parent_illegal_behavior_p','parent_doesnt_eat_well_p', 'parent_self_harm_p',\n",
        "        ],\n",
        "\n",
        "        'Social Functioning': [\n",
        "            'parent_bad_relationships_p', 'parent_bad_family_relationship_p', 'parent_not_liked_by_others_p',\n",
        "            'parent_friendship_trouble_p', 'parent_prefers_older_people_p', 'parent_associates_with_trouble_p',\n",
        "            'parent_bad_opposite_sex_relationship_p', 'parent_meets_family_duties_p', 'parent_clowns_or_shows_off_p',\n",
        "            'parent_teases_others_p', 'parent_stands_up_rights_p'\n",
        "        ],\n",
        "\n",
        "        'Cognitive and Attention Issues': [\n",
        "            'parent_attention_D_p',\n",
        "            'parent_forgetful_p', 'parent_concentration_trouble_p', 'parent_confused_p', 'parent_planning_trouble_p',\n",
        "            'parent_not_good_at_details_p', 'parent_obsessive_thoughts_p',\n",
        "            'parent_repeats_acts_p', 'parent_max_effort_p', 'parent_disorganized_p', 'parent_loses_things_p',\n",
        "            'parent_decision_trouble_p', 'parent_priority_trouble_p', 'parent_sees_things_p', 'parent_hears_voices_p', 'parent_speech_problems_p',\n",
        "        ],\n",
        "\n",
        "\n",
        "        'Delta Psychopathology': [\n",
        "            'delta_parent_sleep_trouble_p', 'delta_parent_worries_about_family_p',\n",
        "            'delta_parent_friendship_trouble_p', 'delta_parent_poor_work_performance_p',\n",
        "            'delta_parent_aches_pains_p', 'delta_parent_not_liked_by_others_p',\n",
        "            'delta_parent_feels_overwhelmed_p', 'delta_parent_feels_unloved_p',\n",
        "            'delta_parent_bad_family_relationship_p', 'delta_parent_worries_about_future_p',\n",
        "            'delta_parent_worries_a_lot_p',\n",
        "            'delta_parent_concentration_trouble_p', 'delta_parent_stubborn_irritable_p',\n",
        "            'delta_parent_drinks_too_much_p', 'delta_parent_financial_failures_p',\n",
        "            'delta_parent_meets_family_duties_p', 'delta_parent_planning_trouble_p',\n",
        "            'delta_parent_bad_relationships_p', 'delta_parent_drug_use_p'\n",
        "        ],\n",
        "\n",
        "        'Family Drug Use': [\n",
        "          'hallucinogen_use_history_B_p', 'hallucinogen_current_B_p', 'sedative_hypnotic_anxiolytic_use_B_p',\n",
        "          'father_alcohol', 'mother_alcohol', 'father_druguse', 'mother_druguse',\n",
        "          'cigs_during_pregnancy_p', 'alcohol_during_pregnancy_p', 'weed_during_pregnancy_p',\n",
        "          'cocaine_during_pregnancy_p', 'heroin_during_pregnancy_p',\n",
        "          'prescriptionmed_pregnancy_p', 'cigs_before_pregnancy_p', 'alcohol_before_pregnancy_p',\n",
        "          'weed_before_pregnancy_p', 'cocaine_before_pregnancy_p', 'heroin_before_pregnancy_p',\n",
        "          'drugs_before_pregnancy_p', 'drinksperweek_during_pregnancy_p', 'drugs_during_pregnancy_p',\n",
        "          'caffeine_during_pregnancy_p', 'parent_tobacco_use_p','parent_alcohol_excess_p', 'parent_alcohol_freq_p',\n",
        "          'parent_alcohol_days_drunk_p', 'parent_drug_days_p'],\n",
        "\n",
        "        'Ethnicity/Nationality': ['desc_african_AFR_B', 'desc_native_american_AMR_B', 'desc_alaska_native_AMR_B',\n",
        "            'desc_chinese_EAS_B', 'desc_japanese_EAS_B', 'desc_korean_EAS_B', 'desc_vietnamese_EAS_B',\n",
        "            'desc_european_EUR_B', 'desc_asian_indian_SAS_B', 'desc_other_south_asian_SAS_B', 'desc_latin_B'\n",
        "            'pc_gene_aces1', 'pc_gene_aces2', 'pc_gene_aces3', 'pc_gene_aces4',\n",
        "            'pc_gene_aces5', 'pc_gene_aces6', 'pc_gene_aces7', 'pc_gene_aces8',\n",
        "            'pc_gene_aces9', 'pc_gene_aces10', 'pc_gene_aces11', 'pc_gene_aces12',\n",
        "            'pc_gene_aces13', 'pc_gene_aces14', 'pc_gene_aces15', 'pc_gene_aces16',\n",
        "            'pc_gene_aces17', 'pc_gene_aces18', 'pc_gene_aces19', 'pc_gene_aces20',\n",
        "            'pc_gene_aces21', 'pc_gene_aces22', 'pc_gene_aces23', 'pc_gene_aces24',\n",
        "            'pc_gene_aces25', 'pc_gene_aces26', 'pc_gene_aces27', 'pc_gene_aces28',\n",
        "            'pc_gene_aces29', 'pc_gene_aces30', 'pc_gene_aces31', 'pc_gene_aces32'],\n",
        "\n",
        "        'Child/Parent Adverse Life Events': ['g_lifeevents_ss_k', 'b_lifeevents_ss_k', 'b_lifeevents_affected_ss_k',\n",
        "            'experienced_crime_p', 'g_lifeevents_ss_p', 'b_lifeevents_ss_p', 'b_lifeevents_affected_ss_p',\n",
        "            'car_accident_hurt_p', 'big_accident_need_treatment_p', 'fire_victim_p', 'natural_disaster_victim_p',\n",
        "            'terrorism_victim_p', 'war_death_witness_p', 'stabbing_shooting_witness_p',\n",
        "            'stabbing_shooting_victim_community_p', 'stabbing_shooting_victim_home_p', 'beating_victim_home_p',\n",
        "            'stranger_threatened_child_victim_p', 'family_threatened_child_victim_p', 'adult_family_fighting_victim_p',\n",
        "            'domestic_child_sexually_abuse_victim_p', 'foreign_child_sexually_abuse_victim_p',\n",
        "            'peer_child_sexually_abuse_victim_p', 'sudden_death_in_family_p'],\n",
        "\n",
        "        'Child ADHD': ['cant_concentrate_p'],\n",
        "\n",
        "        'Externalising': [\n",
        "            'parent_aggressive_D_p', 'parent_external_D_p',\n",
        "        ],\n",
        "\n",
        "        'Child Other Personality Features': ['easily_offended_p', 'blames_others_p', 'sociable_p', 'school_excitement_p',\n",
        "            'not_critical_others_p', 'scared_dark_p', 'disagreeable_p', 'goal_continuity_p', 'up_negative_urgency_ss_k',\n",
        "            'up_lackofplanning_ss_k', 'up_sensationseeking_ss_k', 'up_positiveurgency_ss_k', 'up_lackperseverance_ss_k',\n",
        "            'bis_behav_inhibition_ss_k', 'bis_reward_responsive_ss_k', 'bis_drive_ss_k', 'bis_funseeking_ss_k',\n",
        "            'loquacious_p', 'bragadocious_p', 'easily_jealous_p', 'wishes_other_sex_p', 'easily_embarrassed_p',\n",
        "            'secretive_p', 'perfectionist_p', 'sex_orient_y'\n",
        "          ],\n",
        "\n",
        "        'Child Diet/Nutrition': ['fruit_intake', 'vegetable_intake', 'protein_sources_intake', 'legume_intake',\n",
        "        'added_sugar', 'sugary_beverage_freq', 'dairy_intake', 'whole_grain_intake', 'total_calories',\n",
        "        'protein_intake', 'carbohydrate_intake', 'fiber_intake', 'sodium_intake', 'potassium_intake',\n",
        "        'total_sugar', 'saturated_fat', 'bad_diet_p'],\n",
        "\n",
        "}"
      ],
      "metadata": {
        "id": "aNvcUVTv4pj0"
      },
      "execution_count": null,
      "outputs": []
    },
    {
      "cell_type": "code",
      "source": [
        "# Create variable grouping without duplicates\n",
        "\n",
        "no_dupes_vars = {}\n",
        "seen_vars = set()\n",
        "\n",
        "for v, k in variable_groups.items():\n",
        "  new_vars = set(k) - seen_vars\n",
        "  if new_vars:\n",
        "    no_dupes_vars[v] = list(new_vars)\n",
        "    seen_vars.update(new_vars)"
      ],
      "metadata": {
        "id": "-l9y_UgE4un9"
      },
      "execution_count": null,
      "outputs": []
    },
    {
      "cell_type": "code",
      "source": [
        "ggplot_colors = [\n",
        "    \"#F8766D\", \"#B79F00\", \"#00BA38\", \"#00BFC4\", \"#619CFF\", \"#F564E3\",\n",
        "    \"#00A9FF\", \"#FF61CC\", \"#E76BF3\", \"#00C08B\", \"#C49A00\", \"#FF9F6E\",\n",
        "    \"#A3A500\", \"#39B600\", \"#00BF7D\", \"#00B0F6\", \"#9590FF\", \"#FF62BC\",\n",
        "    \"#6C6C6C\", \"#D89000\", \"#FF6F00\", \"#D0BBFF\", \"#FFFF99\", \"#00FF00\",\n",
        "    \"#00FFFF\", \"#FF00FF\"\n",
        "]\n",
        "\n",
        "color_map = dict(zip(variable_groups.keys(), ggplot_colors)) # create color mapping\n",
        "inv_map = {} # create inverse mapping from variables to groups\n",
        "\n",
        "for v, k in no_dupes_vars.items():\n",
        "  for l in k:\n",
        "    inv_map[l] = v"
      ],
      "metadata": {
        "id": "1I0-imoOM3mf"
      },
      "execution_count": null,
      "outputs": []
    },
    {
      "cell_type": "code",
      "source": [
        "# Iterate over edge values to create connections list\n",
        "\n",
        "connections_list = []\n",
        "\n",
        "missing = set()\n",
        "\n",
        "for from_var, to_var, value in edge_values:\n",
        "  if from_var not in inv_map:\n",
        "    missing.add(from_var)\n",
        "    continue\n",
        "  if to_var not in inv_map:\n",
        "    missing.add(to_var)\n",
        "    continue\n",
        "  from_color = color_map[inv_map[from_var]]\n",
        "  to_color = color_map[inv_map[to_var]]\n",
        "  connections_list += [(from_var, to_var, value, from_color, to_color)]\n",
        "\n",
        "print(missing)"
      ],
      "metadata": {
        "id": "fEfdYguIyI4B",
        "colab": {
          "base_uri": "https://localhost:8080/"
        },
        "outputId": "60ad9b21-23fa-4ce2-ba73-0288f1344894"
      },
      "execution_count": null,
      "outputs": [
        {
          "output_type": "stream",
          "name": "stdout",
          "text": [
            "set()\n"
          ]
        }
      ]
    },
    {
      "cell_type": "code",
      "source": [
        "# Create list of all groups\n",
        "\n",
        "shap_var_map = []\n",
        "all_groups_set = set()\n",
        "\n",
        "for v in shap_var_list:\n",
        "  shap_var_map += [(v, inv_map[v])]\n",
        "  all_groups_set.add(inv_map[v])\n",
        "\n",
        "all_groups = list(all_groups_set)"
      ],
      "metadata": {
        "id": "5b9O5QbqXh47"
      },
      "execution_count": null,
      "outputs": []
    },
    {
      "cell_type": "code",
      "source": [
        "# create hierarchy df\n",
        "hierarchy_df = []\n",
        "\n",
        "vertices = [(\"origin\", \"None\", \"blue\")]\n",
        "\n",
        "# add group vertices + edges first\n",
        "for v in all_groups:\n",
        "  hierarchy_df += [(\"origin\", v)]\n",
        "  vertices += [(v, v, color_map[v])]\n",
        "\n",
        "# and then variables vertices + edges\n",
        "for v, group in shap_var_map:\n",
        "  hierarchy_df += [(group, v)]\n",
        "  vertices += [(v, group, color_map[group])]"
      ],
      "metadata": {
        "id": "rSFA9hvo5xQ0"
      },
      "execution_count": null,
      "outputs": []
    },
    {
      "cell_type": "code",
      "source": [
        "# save DFs\n",
        "hierarchy_pandas_df = pd.DataFrame(hierarchy_df, columns=['from', 'to'])\n",
        "hierarchy_pandas_df.to_csv('hierarchy_df.csv', index=False)\n",
        "\n",
        "connections_data_frame = pd.DataFrame(connections_list, columns=['from', 'to', 'value', 'from_color', 'to_color'])\n",
        "connections_data_frame.to_csv('connections_df.csv', index=False)\n",
        "\n",
        "vertex_df = pd.DataFrame(vertices, columns=['name', 'group', 'color'])\n",
        "vertex_df.to_csv('vertex_df.csv', index=False)"
      ],
      "metadata": {
        "id": "KFYXhHwW6R_v"
      },
      "execution_count": null,
      "outputs": []
    }
  ]
}